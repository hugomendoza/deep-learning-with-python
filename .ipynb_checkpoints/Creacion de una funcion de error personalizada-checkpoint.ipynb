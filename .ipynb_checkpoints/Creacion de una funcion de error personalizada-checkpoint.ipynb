{
 "cells": [
  {
   "cell_type": "markdown",
   "metadata": {},
   "source": [
    "# Funcion de error personalizada con Tensorflow"
   ]
  },
  {
   "cell_type": "code",
   "execution_count": 1,
   "metadata": {},
   "outputs": [
    {
     "data": {
      "text/plain": [
       "'2.3.1'"
      ]
     },
     "execution_count": 1,
     "metadata": {},
     "output_type": "execute_result"
    }
   ],
   "source": [
    "import tensorflow as tf\n",
    "\n",
    "tf.__version__"
   ]
  },
  {
   "cell_type": "markdown",
   "metadata": {},
   "source": [
    "## Huber loss"
   ]
  },
  {
   "cell_type": "markdown",
   "metadata": {},
   "source": [
    "La función de pérdida de Huber describe la pena incurrida por un procedimiento de estimación f. Huber (1964) define la función de pérdida de forma fragmentada por:\n",
    "\n",
    "$$ {\\displaystyle L_{\\delta }(y,h(x))={\\begin{cases}{\\frac {1}{2}}(y-h(x))^{2} \\hspace{1.5cm} {\\textrm {for}}|y-h(x)|\\leq \\delta ,\\\\\\delta \\,|y-h(x)|-{\\frac {1}{2}}\\delta ^{2} \\hspace{5mm} {\\textrm {otherwise.}}\\end{cases}}}$$\n",
    "\n",
    "Más información: https://en.wikipedia.org/wiki/Huber_loss"
   ]
  },
  {
   "cell_type": "code",
   "execution_count": 2,
   "metadata": {},
   "outputs": [],
   "source": [
    "# Función que genera al función de pérdida de Huber\n",
    "def create_huber(threshold=1.0):\n",
    "    def huber_fn(y_true, y_pred):\n",
    "        error = y_true - y_pred\n",
    "        is_small_error = tf.abs(error) <= threshold\n",
    "        squared_loss = tf.square(error) / 2\n",
    "        linear_loss  = threshold * tf.abs(error) - threshold**2 / 2\n",
    "        return tf.where(is_small_error, squared_loss, linear_loss)\n",
    "    return huber_fn"
   ]
  },
  {
   "cell_type": "markdown",
   "metadata": {},
   "source": [
    "A continuación se representa gráficamente la función de pérdida de Huber en función del threshold seleccionado"
   ]
  },
  {
   "cell_type": "code",
   "execution_count": 11,
   "metadata": {},
   "outputs": [],
   "source": [
    "# El valor más habitual para la función de pérdida de Huber es 1.0\n",
    "huber_fn = create_huber(1.0)"
   ]
  },
  {
   "cell_type": "code",
   "execution_count": 12,
   "metadata": {},
   "outputs": [
    {
     "data": {
      "image/png": "[encoded data removed]",
      "text/plain": [
       "<Figure size 720x396 with 1 Axes>"
      ]
     },
     "metadata": {
      "needs_background": "light"
     },
     "output_type": "display_data"
    }
   ],
   "source": [
    "# Representación gráfica de la función de pérdida de Huber\n",
    "from matplotlib import pyplot as plt\n",
    "import numpy as np\n",
    "\n",
    "plt.figure(figsize=(10, 5.5))\n",
    "\n",
    "z = np.linspace(-4, 4, 200)\n",
    "\n",
    "plt.plot(z, huber_fn(0, z), \"b-\", linewidth=2, label=\"huber($z$)\")\n",
    "\n",
    "plt.gca().axvline(x=0, color='k')\n",
    "plt.axis([-4, 4, 0, 4])\n",
    "plt.grid(True)\n",
    "plt.xlabel(\"$z$\")\n",
    "plt.ylabel(\"$huber\\_loss(0, z)$\")\n",
    "plt.legend(fontsize=14)\n",
    "plt.title(\"Huber loss\", fontsize=14)\n",
    "plt.show()"
   ]
  },
  {
   "cell_type": "markdown",
   "metadata": {},
   "source": [
    "## Entrenando una Red Neuronal Artificial con la nueva función de error"
   ]
  },
  {
   "cell_type": "markdown",
   "metadata": {},
   "source": [
    "A continuación se pone en práctica la función de error definida en el apartado anterior en un ejercicio práctico. Para ello, se va a utilizar el caso de uso práctico de predicción del precio de una vivienda presentado en la sección de introducción a Keras"
   ]
  },
  {
   "cell_type": "markdown",
   "metadata": {},
   "source": [
    "### Importando el conjunto de datos"
   ]
  },
  {
   "cell_type": "code",
   "execution_count": 13,
   "metadata": {},
   "outputs": [],
   "source": [
    "from tensorflow.keras import datasets"
   ]
  },
  {
   "cell_type": "code",
   "execution_count": 14,
   "metadata": {},
   "outputs": [],
   "source": [
    "boston_housing = datasets.boston_housing"
   ]
  },
  {
   "cell_type": "code",
   "execution_count": 15,
   "metadata": {},
   "outputs": [],
   "source": [
    "(X_train, y_train), (X_test, y_test) = boston_housing.load_data()"
   ]
  },
  {
   "cell_type": "code",
   "execution_count": 16,
   "metadata": {},
   "outputs": [
    {
     "data": {
      "text/html": [
       "<div>\n",
       "<style scoped>\n",
       "    .dataframe tbody tr th:only-of-type {\n",
       "        vertical-align: middle;\n",
       "    }\n",
       "\n",
       "    .dataframe tbody tr th {\n",
       "        vertical-align: top;\n",
       "    }\n",
       "\n",
       "    .dataframe thead th {\n",
       "        text-align: right;\n",
       "    }\n",
       "</style>\n",
       "<table border=\"1\" class=\"dataframe\">\n",
       "  <thead>\n",
       "    <tr style=\"text-align: right;\">\n",
       "      <th></th>\n",
       "      <th>CRIM</th>\n",
       "      <th>ZN</th>\n",
       "      <th>INDUS</th>\n",
       "      <th>CHAS</th>\n",
       "      <th>NOX</th>\n",
       "      <th>RM</th>\n",
       "      <th>AGE</th>\n",
       "      <th>DIS</th>\n",
       "      <th>RAD</th>\n",
       "      <th>TAX</th>\n",
       "      <th>PTRATIO</th>\n",
       "      <th>B</th>\n",
       "      <th>LSTAT</th>\n",
       "      <th>MEDV</th>\n",
       "    </tr>\n",
       "  </thead>\n",
       "  <tbody>\n",
       "    <tr>\n",
       "      <th>0</th>\n",
       "      <td>1.23247</td>\n",
       "      <td>0.0</td>\n",
       "      <td>8.14</td>\n",
       "      <td>0.0</td>\n",
       "      <td>0.538</td>\n",
       "      <td>6.142</td>\n",
       "      <td>91.7</td>\n",
       "      <td>3.9769</td>\n",
       "      <td>4.0</td>\n",
       "      <td>307.0</td>\n",
       "      <td>21.0</td>\n",
       "      <td>396.90</td>\n",
       "      <td>18.72</td>\n",
       "      <td>15.2</td>\n",
       "    </tr>\n",
       "    <tr>\n",
       "      <th>1</th>\n",
       "      <td>0.02177</td>\n",
       "      <td>82.5</td>\n",
       "      <td>2.03</td>\n",
       "      <td>0.0</td>\n",
       "      <td>0.415</td>\n",
       "      <td>7.610</td>\n",
       "      <td>15.7</td>\n",
       "      <td>6.2700</td>\n",
       "      <td>2.0</td>\n",
       "      <td>348.0</td>\n",
       "      <td>14.7</td>\n",
       "      <td>395.38</td>\n",
       "      <td>3.11</td>\n",
       "      <td>42.3</td>\n",
       "    </tr>\n",
       "    <tr>\n",
       "      <th>2</th>\n",
       "      <td>4.89822</td>\n",
       "      <td>0.0</td>\n",
       "      <td>18.10</td>\n",
       "      <td>0.0</td>\n",
       "      <td>0.631</td>\n",
       "      <td>4.970</td>\n",
       "      <td>100.0</td>\n",
       "      <td>1.3325</td>\n",
       "      <td>24.0</td>\n",
       "      <td>666.0</td>\n",
       "      <td>20.2</td>\n",
       "      <td>375.52</td>\n",
       "      <td>3.26</td>\n",
       "      <td>50.0</td>\n",
       "    </tr>\n",
       "    <tr>\n",
       "      <th>3</th>\n",
       "      <td>0.03961</td>\n",
       "      <td>0.0</td>\n",
       "      <td>5.19</td>\n",
       "      <td>0.0</td>\n",
       "      <td>0.515</td>\n",
       "      <td>6.037</td>\n",
       "      <td>34.5</td>\n",
       "      <td>5.9853</td>\n",
       "      <td>5.0</td>\n",
       "      <td>224.0</td>\n",
       "      <td>20.2</td>\n",
       "      <td>396.90</td>\n",
       "      <td>8.01</td>\n",
       "      <td>21.1</td>\n",
       "    </tr>\n",
       "    <tr>\n",
       "      <th>4</th>\n",
       "      <td>3.69311</td>\n",
       "      <td>0.0</td>\n",
       "      <td>18.10</td>\n",
       "      <td>0.0</td>\n",
       "      <td>0.713</td>\n",
       "      <td>6.376</td>\n",
       "      <td>88.4</td>\n",
       "      <td>2.5671</td>\n",
       "      <td>24.0</td>\n",
       "      <td>666.0</td>\n",
       "      <td>20.2</td>\n",
       "      <td>391.43</td>\n",
       "      <td>14.65</td>\n",
       "      <td>17.7</td>\n",
       "    </tr>\n",
       "    <tr>\n",
       "      <th>5</th>\n",
       "      <td>0.28392</td>\n",
       "      <td>0.0</td>\n",
       "      <td>7.38</td>\n",
       "      <td>0.0</td>\n",
       "      <td>0.493</td>\n",
       "      <td>5.708</td>\n",
       "      <td>74.3</td>\n",
       "      <td>4.7211</td>\n",
       "      <td>5.0</td>\n",
       "      <td>287.0</td>\n",
       "      <td>19.6</td>\n",
       "      <td>391.13</td>\n",
       "      <td>11.74</td>\n",
       "      <td>18.5</td>\n",
       "    </tr>\n",
       "    <tr>\n",
       "      <th>6</th>\n",
       "      <td>9.18702</td>\n",
       "      <td>0.0</td>\n",
       "      <td>18.10</td>\n",
       "      <td>0.0</td>\n",
       "      <td>0.700</td>\n",
       "      <td>5.536</td>\n",
       "      <td>100.0</td>\n",
       "      <td>1.5804</td>\n",
       "      <td>24.0</td>\n",
       "      <td>666.0</td>\n",
       "      <td>20.2</td>\n",
       "      <td>396.90</td>\n",
       "      <td>23.60</td>\n",
       "      <td>11.3</td>\n",
       "    </tr>\n",
       "    <tr>\n",
       "      <th>7</th>\n",
       "      <td>4.09740</td>\n",
       "      <td>0.0</td>\n",
       "      <td>19.58</td>\n",
       "      <td>0.0</td>\n",
       "      <td>0.871</td>\n",
       "      <td>5.468</td>\n",
       "      <td>100.0</td>\n",
       "      <td>1.4118</td>\n",
       "      <td>5.0</td>\n",
       "      <td>403.0</td>\n",
       "      <td>14.7</td>\n",
       "      <td>396.90</td>\n",
       "      <td>26.42</td>\n",
       "      <td>15.6</td>\n",
       "    </tr>\n",
       "    <tr>\n",
       "      <th>8</th>\n",
       "      <td>2.15505</td>\n",
       "      <td>0.0</td>\n",
       "      <td>19.58</td>\n",
       "      <td>0.0</td>\n",
       "      <td>0.871</td>\n",
       "      <td>5.628</td>\n",
       "      <td>100.0</td>\n",
       "      <td>1.5166</td>\n",
       "      <td>5.0</td>\n",
       "      <td>403.0</td>\n",
       "      <td>14.7</td>\n",
       "      <td>169.27</td>\n",
       "      <td>16.65</td>\n",
       "      <td>15.6</td>\n",
       "    </tr>\n",
       "    <tr>\n",
       "      <th>9</th>\n",
       "      <td>1.62864</td>\n",
       "      <td>0.0</td>\n",
       "      <td>21.89</td>\n",
       "      <td>0.0</td>\n",
       "      <td>0.624</td>\n",
       "      <td>5.019</td>\n",
       "      <td>100.0</td>\n",
       "      <td>1.4394</td>\n",
       "      <td>4.0</td>\n",
       "      <td>437.0</td>\n",
       "      <td>21.2</td>\n",
       "      <td>396.90</td>\n",
       "      <td>34.41</td>\n",
       "      <td>14.4</td>\n",
       "    </tr>\n",
       "  </tbody>\n",
       "</table>\n",
       "</div>"
      ],
      "text/plain": [
       "      CRIM    ZN  INDUS  CHAS    NOX     RM    AGE     DIS   RAD    TAX  \\\n",
       "0  1.23247   0.0   8.14   0.0  0.538  6.142   91.7  3.9769   4.0  307.0   \n",
       "1  0.02177  82.5   2.03   0.0  0.415  7.610   15.7  6.2700   2.0  348.0   \n",
       "2  4.89822   0.0  18.10   0.0  0.631  4.970  100.0  1.3325  24.0  666.0   \n",
       "3  0.03961   0.0   5.19   0.0  0.515  6.037   34.5  5.9853   5.0  224.0   \n",
       "4  3.69311   0.0  18.10   0.0  0.713  6.376   88.4  2.5671  24.0  666.0   \n",
       "5  0.28392   0.0   7.38   0.0  0.493  5.708   74.3  4.7211   5.0  287.0   \n",
       "6  9.18702   0.0  18.10   0.0  0.700  5.536  100.0  1.5804  24.0  666.0   \n",
       "7  4.09740   0.0  19.58   0.0  0.871  5.468  100.0  1.4118   5.0  403.0   \n",
       "8  2.15505   0.0  19.58   0.0  0.871  5.628  100.0  1.5166   5.0  403.0   \n",
       "9  1.62864   0.0  21.89   0.0  0.624  5.019  100.0  1.4394   4.0  437.0   \n",
       "\n",
       "   PTRATIO       B  LSTAT  MEDV  \n",
       "0     21.0  396.90  18.72  15.2  \n",
       "1     14.7  395.38   3.11  42.3  \n",
       "2     20.2  375.52   3.26  50.0  \n",
       "3     20.2  396.90   8.01  21.1  \n",
       "4     20.2  391.43  14.65  17.7  \n",
       "5     19.6  391.13  11.74  18.5  \n",
       "6     20.2  396.90  23.60  11.3  \n",
       "7     14.7  396.90  26.42  15.6  \n",
       "8     14.7  169.27  16.65  15.6  \n",
       "9     21.2  396.90  34.41  14.4  "
      ]
     },
     "execution_count": 16,
     "metadata": {},
     "output_type": "execute_result"
    }
   ],
   "source": [
    "import pandas as pd\n",
    "\n",
    "features = [\"CRIM\", \"ZN\", \"INDUS\", \"CHAS\", \"NOX\", \"RM\", \"AGE\", \"DIS\", \"RAD\", \"TAX\", \"PTRATIO\", \"B\", \"LSTAT\", \"MEDV\"]\n",
    "\n",
    "df_train = pd.DataFrame(np.column_stack([X_train, y_train]), columns=features)\n",
    "df_train.head(10)"
   ]
  },
  {
   "cell_type": "markdown",
   "metadata": {},
   "source": [
    "### División del conjunto de datos"
   ]
  },
  {
   "cell_type": "code",
   "execution_count": 17,
   "metadata": {},
   "outputs": [],
   "source": [
    "from sklearn.model_selection import train_test_split\n",
    "\n",
    "X_test, X_val, y_test, y_val = train_test_split(X_test, y_test, test_size=0.5)"
   ]
  },
  {
   "cell_type": "markdown",
   "metadata": {},
   "source": [
    "### Escalando el conjunto de datos"
   ]
  },
  {
   "cell_type": "code",
   "execution_count": 18,
   "metadata": {},
   "outputs": [],
   "source": [
    "from sklearn.preprocessing import RobustScaler\n",
    "\n",
    "scaler = RobustScaler()\n",
    "\n",
    "X_train_prep = scaler.fit_transform(X_train)\n",
    "X_val_prep = scaler.transform(X_val)\n",
    "X_test_prep = scaler.transform(X_test)"
   ]
  },
  {
   "cell_type": "markdown",
   "metadata": {},
   "source": [
    "### Definicion de la arquitectura de la Red Neuronal Artificial"
   ]
  },
  {
   "cell_type": "code",
   "execution_count": 19,
   "metadata": {},
   "outputs": [],
   "source": [
    "from tensorflow.keras import models\n",
    "from tensorflow.keras import layers"
   ]
  },
  {
   "cell_type": "code",
   "execution_count": 20,
   "metadata": {},
   "outputs": [],
   "source": [
    "network = models.Sequential()\n",
    "\n",
    "network.add(layers.Dense(30, activation='relu', input_shape=X_train.shape[1:]))\n",
    "network.add(layers.Dense(10, activation='relu'))\n",
    "network.add(layers.Dense(1))"
   ]
  },
  {
   "cell_type": "code",
   "execution_count": 21,
   "metadata": {},
   "outputs": [
    {
     "name": "stdout",
     "output_type": "stream",
     "text": [
      "Model: \"sequential\"\n",
      "_________________________________________________________________\n",
      "Layer (type)                 Output Shape              Param #   \n",
      "=================================================================\n",
      "dense (Dense)                (None, 30)                420       \n",
      "_________________________________________________________________\n",
      "dense_1 (Dense)              (None, 10)                310       \n",
      "_________________________________________________________________\n",
      "dense_2 (Dense)              (None, 1)                 11        \n",
      "=================================================================\n",
      "Total params: 741\n",
      "Trainable params: 741\n",
      "Non-trainable params: 0\n",
      "_________________________________________________________________\n"
     ]
    }
   ],
   "source": [
    "network.summary()"
   ]
  },
  {
   "cell_type": "markdown",
   "metadata": {},
   "source": [
    "### Entrenamiento de la Red Neuronal Artificial"
   ]
  },
  {
   "cell_type": "markdown",
   "metadata": {},
   "source": [
    "#### Función de error utilizada en el ejercicio práctico de introducción a Keras"
   ]
  },
  {
   "cell_type": "markdown",
   "metadata": {},
   "source": [
    "A continuación se muestra la representación gráfica de la evaluación de los valores resultantes de la función de error **_mean_squared_error_** durante el proceso de entrenamiento."
   ]
  },
  {
   "cell_type": "code",
   "execution_count": 22,
   "metadata": {},
   "outputs": [],
   "source": [
    "network.compile(\n",
    "    loss='mean_squared_error',\n",
    "    optimizer='adam',\n",
    "    metrics=['mae']\n",
    "               )"
   ]
  },
  {
   "cell_type": "code",
   "execution_count": 23,
   "metadata": {},
   "outputs": [
    {
     "name": "stdout",
     "output_type": "stream",
     "text": [
      "Epoch 1/50\n",
      "13/13 [==============================] - 0s 13ms/step - loss: 609.2592 - mae: 23.0250 - val_loss: 648.7289 - val_mae: 23.5845\n",
      "Epoch 2/50\n",
      "13/13 [==============================] - 0s 3ms/step - loss: 587.2746 - mae: 22.4830 - val_loss: 629.3381 - val_mae: 23.1114\n",
      "Epoch 3/50\n",
      "13/13 [==============================] - 0s 3ms/step - loss: 567.1213 - mae: 21.9699 - val_loss: 611.3957 - val_mae: 22.6655\n",
      "Epoch 4/50\n",
      "13/13 [==============================] - 0s 3ms/step - loss: 548.6100 - mae: 21.4603 - val_loss: 593.7635 - val_mae: 22.2198\n",
      "Epoch 5/50\n",
      "13/13 [==============================] - 0s 3ms/step - loss: 529.7037 - mae: 20.9509 - val_loss: 574.8883 - val_mae: 21.7336\n",
      "Epoch 6/50\n",
      "13/13 [==============================] - 0s 3ms/step - loss: 508.6037 - mae: 20.4038 - val_loss: 553.0528 - val_mae: 21.1616\n",
      "Epoch 7/50\n",
      "13/13 [==============================] - 0s 3ms/step - loss: 484.5186 - mae: 19.8018 - val_loss: 527.8912 - val_mae: 20.5123\n",
      "Epoch 8/50\n",
      "13/13 [==============================] - 0s 3ms/step - loss: 457.6923 - mae: 19.1705 - val_loss: 500.0374 - val_mae: 19.8282\n",
      "Epoch 9/50\n",
      "13/13 [==============================] - 0s 3ms/step - loss: 429.3900 - mae: 18.4774 - val_loss: 469.4304 - val_mae: 19.0819\n",
      "Epoch 10/50\n",
      "13/13 [==============================] - 0s 3ms/step - loss: 398.5282 - mae: 17.7568 - val_loss: 438.0353 - val_mae: 18.3106\n",
      "Epoch 11/50\n",
      "13/13 [==============================] - 0s 3ms/step - loss: 368.4116 - mae: 17.0425 - val_loss: 405.3447 - val_mae: 17.5263\n",
      "Epoch 12/50\n",
      "13/13 [==============================] - 0s 3ms/step - loss: 337.3828 - mae: 16.2336 - val_loss: 373.8059 - val_mae: 16.7244\n",
      "Epoch 13/50\n",
      "13/13 [==============================] - 0s 3ms/step - loss: 307.4688 - mae: 15.3782 - val_loss: 343.6322 - val_mae: 15.9369\n",
      "Epoch 14/50\n",
      "13/13 [==============================] - 0s 3ms/step - loss: 279.4427 - mae: 14.5031 - val_loss: 313.6653 - val_mae: 15.2858\n",
      "Epoch 15/50\n",
      "13/13 [==============================] - 0s 3ms/step - loss: 253.1310 - mae: 13.6997 - val_loss: 286.8759 - val_mae: 14.6476\n",
      "Epoch 16/50\n",
      "13/13 [==============================] - 0s 3ms/step - loss: 230.8562 - mae: 12.9963 - val_loss: 263.5171 - val_mae: 14.0155\n",
      "Epoch 17/50\n",
      "13/13 [==============================] - 0s 3ms/step - loss: 212.7800 - mae: 12.4213 - val_loss: 243.6209 - val_mae: 13.4176\n",
      "Epoch 18/50\n",
      "13/13 [==============================] - 0s 3ms/step - loss: 197.7569 - mae: 11.9160 - val_loss: 225.8045 - val_mae: 12.8215\n",
      "Epoch 19/50\n",
      "13/13 [==============================] - 0s 3ms/step - loss: 185.7932 - mae: 11.4907 - val_loss: 209.9532 - val_mae: 12.2874\n",
      "Epoch 20/50\n",
      "13/13 [==============================] - 0s 3ms/step - loss: 174.2549 - mae: 11.0743 - val_loss: 196.8646 - val_mae: 11.8391\n",
      "Epoch 21/50\n",
      "13/13 [==============================] - 0s 3ms/step - loss: 163.6013 - mae: 10.6910 - val_loss: 184.7082 - val_mae: 11.4130\n",
      "Epoch 22/50\n",
      "13/13 [==============================] - 0s 3ms/step - loss: 153.5465 - mae: 10.3131 - val_loss: 172.1512 - val_mae: 10.9871\n",
      "Epoch 23/50\n",
      "13/13 [==============================] - 0s 3ms/step - loss: 143.2447 - mae: 9.8961 - val_loss: 160.5403 - val_mae: 10.5754\n",
      "Epoch 24/50\n",
      "13/13 [==============================] - 0s 3ms/step - loss: 133.8554 - mae: 9.5215 - val_loss: 149.2208 - val_mae: 10.1679\n",
      "Epoch 25/50\n",
      "13/13 [==============================] - 0s 3ms/step - loss: 124.2296 - mae: 9.1424 - val_loss: 138.7814 - val_mae: 9.8144\n",
      "Epoch 26/50\n",
      "13/13 [==============================] - 0s 3ms/step - loss: 115.0390 - mae: 8.7710 - val_loss: 128.5291 - val_mae: 9.4576\n",
      "Epoch 27/50\n",
      "13/13 [==============================] - 0s 3ms/step - loss: 106.6090 - mae: 8.4103 - val_loss: 119.7959 - val_mae: 9.1394\n",
      "Epoch 28/50\n",
      "13/13 [==============================] - 0s 3ms/step - loss: 98.3075 - mae: 8.0517 - val_loss: 110.9532 - val_mae: 8.7756\n",
      "Epoch 29/50\n",
      "13/13 [==============================] - 0s 3ms/step - loss: 90.6544 - mae: 7.7035 - val_loss: 102.9307 - val_mae: 8.4436\n",
      "Epoch 30/50\n",
      "13/13 [==============================] - 0s 3ms/step - loss: 83.3725 - mae: 7.3685 - val_loss: 95.0280 - val_mae: 8.1528\n",
      "Epoch 31/50\n",
      "13/13 [==============================] - 0s 3ms/step - loss: 76.6265 - mae: 7.0339 - val_loss: 88.6094 - val_mae: 7.9033\n",
      "Epoch 32/50\n",
      "13/13 [==============================] - 0s 3ms/step - loss: 70.3051 - mae: 6.7227 - val_loss: 82.2579 - val_mae: 7.6375\n",
      "Epoch 33/50\n",
      "13/13 [==============================] - 0s 3ms/step - loss: 64.6463 - mae: 6.3995 - val_loss: 76.8313 - val_mae: 7.3973\n",
      "Epoch 34/50\n",
      "13/13 [==============================] - 0s 3ms/step - loss: 59.3533 - mae: 6.0984 - val_loss: 72.1465 - val_mae: 7.1543\n",
      "Epoch 35/50\n",
      "13/13 [==============================] - 0s 3ms/step - loss: 54.5847 - mae: 5.8102 - val_loss: 67.6199 - val_mae: 6.9080\n",
      "Epoch 36/50\n",
      "13/13 [==============================] - 0s 3ms/step - loss: 50.3860 - mae: 5.5537 - val_loss: 63.4027 - val_mae: 6.6478\n",
      "Epoch 37/50\n",
      "13/13 [==============================] - 0s 3ms/step - loss: 46.3410 - mae: 5.2719 - val_loss: 59.6492 - val_mae: 6.4004\n",
      "Epoch 38/50\n",
      "13/13 [==============================] - 0s 3ms/step - loss: 42.6922 - mae: 5.0276 - val_loss: 56.4374 - val_mae: 6.1600\n",
      "Epoch 39/50\n",
      "13/13 [==============================] - 0s 3ms/step - loss: 39.5208 - mae: 4.8034 - val_loss: 53.6318 - val_mae: 5.9329\n",
      "Epoch 40/50\n",
      "13/13 [==============================] - 0s 3ms/step - loss: 36.5679 - mae: 4.5985 - val_loss: 51.0726 - val_mae: 5.7456\n",
      "Epoch 41/50\n",
      "13/13 [==============================] - 0s 3ms/step - loss: 33.9850 - mae: 4.4115 - val_loss: 49.0378 - val_mae: 5.5813\n",
      "Epoch 42/50\n",
      "13/13 [==============================] - 0s 3ms/step - loss: 31.6611 - mae: 4.2540 - val_loss: 47.2475 - val_mae: 5.4458\n",
      "Epoch 43/50\n",
      "13/13 [==============================] - 0s 3ms/step - loss: 29.6643 - mae: 4.0984 - val_loss: 45.6388 - val_mae: 5.3377\n",
      "Epoch 44/50\n",
      "13/13 [==============================] - 0s 3ms/step - loss: 27.9468 - mae: 3.9517 - val_loss: 44.1728 - val_mae: 5.2226\n",
      "Epoch 45/50\n",
      "13/13 [==============================] - 0s 2ms/step - loss: 26.3381 - mae: 3.8042 - val_loss: 43.4405 - val_mae: 5.1112\n",
      "Epoch 46/50\n",
      "13/13 [==============================] - 0s 3ms/step - loss: 24.9165 - mae: 3.6856 - val_loss: 42.3309 - val_mae: 4.9996\n",
      "Epoch 47/50\n",
      "13/13 [==============================] - 0s 2ms/step - loss: 23.6993 - mae: 3.5656 - val_loss: 41.2718 - val_mae: 4.8865\n",
      "Epoch 48/50\n",
      "13/13 [==============================] - 0s 2ms/step - loss: 22.6053 - mae: 3.4619 - val_loss: 40.3268 - val_mae: 4.7801\n",
      "Epoch 49/50\n",
      "13/13 [==============================] - 0s 2ms/step - loss: 21.6057 - mae: 3.3651 - val_loss: 39.7974 - val_mae: 4.6900\n",
      "Epoch 50/50\n",
      "13/13 [==============================] - 0s 2ms/step - loss: 20.7723 - mae: 3.2988 - val_loss: 39.0263 - val_mae: 4.5769\n"
     ]
    }
   ],
   "source": [
    "history = network.fit(X_train_prep, \n",
    "                      y_train, \n",
    "                      epochs=50, \n",
    "                      validation_data=(X_val_prep, y_val))"
   ]
  },
  {
   "cell_type": "code",
   "execution_count": 24,
   "metadata": {},
   "outputs": [
    {
     "data": {
      "image/png": "[encoded data removed]",
      "text/plain": [
       "<Figure size 720x432 with 1 Axes>"
      ]
     },
     "metadata": {
      "needs_background": "light"
     },
     "output_type": "display_data"
    }
   ],
   "source": [
    "import pandas as pd\n",
    "import matplotlib.pyplot as plt\n",
    "\n",
    "pd.DataFrame(history.history)[['mae', 'val_mae']].plot(figsize=(10, 6))\n",
    "plt.grid(True)\n",
    "plt.xlabel(\"epochs\")\n",
    "plt.ylabel(\"loss\")\n",
    "plt.show()"
   ]
  },
  {
   "cell_type": "markdown",
   "metadata": {},
   "source": [
    "#### Evaluación de los resultados"
   ]
  },
  {
   "cell_type": "code",
   "execution_count": 25,
   "metadata": {},
   "outputs": [
    {
     "name": "stdout",
     "output_type": "stream",
     "text": [
      "2/2 [==============================] - 0s 1ms/step - loss: 13.1272 - mae: 2.9279\n"
     ]
    }
   ],
   "source": [
    "test_loss, test_mae = network.evaluate(X_test_prep, y_test)"
   ]
  },
  {
   "cell_type": "code",
   "execution_count": 26,
   "metadata": {},
   "outputs": [
    {
     "name": "stdout",
     "output_type": "stream",
     "text": [
      "test_mae: 2.927913188934326\n"
     ]
    }
   ],
   "source": [
    "print('test_mae:', test_mae)"
   ]
  },
  {
   "cell_type": "markdown",
   "metadata": {},
   "source": [
    "#### Función de error de Huber"
   ]
  },
  {
   "cell_type": "markdown",
   "metadata": {},
   "source": [
    "A continuación se muestra la representación gráfica de la evaluación de los valores resultantes de la función de error de **_huber_** durante el proceso de entrenamiento."
   ]
  },
  {
   "cell_type": "code",
   "execution_count": 27,
   "metadata": {},
   "outputs": [],
   "source": [
    "network = models.Sequential()\n",
    "\n",
    "network.add(layers.Dense(30, activation='relu', input_shape=X_train.shape[1:]))\n",
    "network.add(layers.Dense(10, activation='relu'))\n",
    "network.add(layers.Dense(1))"
   ]
  },
  {
   "cell_type": "code",
   "execution_count": 28,
   "metadata": {},
   "outputs": [],
   "source": [
    "network.compile(\n",
    "    loss=create_huber(1.0),\n",
    "    optimizer='adam',\n",
    "    metrics=['mae']\n",
    "               )"
   ]
  },
  {
   "cell_type": "code",
   "execution_count": 29,
   "metadata": {},
   "outputs": [
    {
     "name": "stdout",
     "output_type": "stream",
     "text": [
      "Epoch 1/50\n",
      "13/13 [==============================] - 0s 12ms/step - loss: 21.8622 - mae: 22.3622 - val_loss: 22.4622 - val_mae: 22.9622\n",
      "Epoch 2/50\n",
      "13/13 [==============================] - 0s 3ms/step - loss: 21.4915 - mae: 21.9911 - val_loss: 22.1475 - val_mae: 22.6475\n",
      "Epoch 3/50\n",
      "13/13 [==============================] - 0s 3ms/step - loss: 21.1190 - mae: 21.6178 - val_loss: 21.7887 - val_mae: 22.2887\n",
      "Epoch 4/50\n",
      "13/13 [==============================] - 0s 3ms/step - loss: 20.7140 - mae: 21.2140 - val_loss: 21.3534 - val_mae: 21.8534\n",
      "Epoch 5/50\n",
      "13/13 [==============================] - 0s 3ms/step - loss: 20.2206 - mae: 20.7203 - val_loss: 20.7910 - val_mae: 21.2910\n",
      "Epoch 6/50\n",
      "13/13 [==============================] - 0s 3ms/step - loss: 19.5731 - mae: 20.0731 - val_loss: 20.0691 - val_mae: 20.5674\n",
      "Epoch 7/50\n",
      "13/13 [==============================] - 0s 3ms/step - loss: 18.7519 - mae: 19.2513 - val_loss: 19.1848 - val_mae: 19.6845\n",
      "Epoch 8/50\n",
      "13/13 [==============================] - 0s 3ms/step - loss: 17.7709 - mae: 18.2700 - val_loss: 18.1956 - val_mae: 18.6947\n",
      "Epoch 9/50\n",
      "13/13 [==============================] - 0s 3ms/step - loss: 16.7283 - mae: 17.2250 - val_loss: 17.0680 - val_mae: 17.5627\n",
      "Epoch 10/50\n",
      "13/13 [==============================] - 0s 3ms/step - loss: 15.6466 - mae: 16.1438 - val_loss: 15.9120 - val_mae: 16.4107\n",
      "Epoch 11/50\n",
      "13/13 [==============================] - 0s 3ms/step - loss: 14.4524 - mae: 14.9491 - val_loss: 14.7479 - val_mae: 15.2352\n",
      "Epoch 12/50\n",
      "13/13 [==============================] - 0s 3ms/step - loss: 13.2211 - mae: 13.7178 - val_loss: 13.7815 - val_mae: 14.2674\n",
      "Epoch 13/50\n",
      "13/13 [==============================] - 0s 3ms/step - loss: 12.1616 - mae: 12.6561 - val_loss: 12.9656 - val_mae: 13.4653\n",
      "Epoch 14/50\n",
      "13/13 [==============================] - 0s 3ms/step - loss: 11.3257 - mae: 11.8216 - val_loss: 12.2268 - val_mae: 12.7265\n",
      "Epoch 15/50\n",
      "13/13 [==============================] - 0s 3ms/step - loss: 10.6538 - mae: 11.1491 - val_loss: 11.5603 - val_mae: 12.0603\n",
      "Epoch 16/50\n",
      "13/13 [==============================] - 0s 3ms/step - loss: 10.0907 - mae: 10.5826 - val_loss: 10.9989 - val_mae: 11.4957\n",
      "Epoch 17/50\n",
      "13/13 [==============================] - 0s 3ms/step - loss: 9.6371 - mae: 10.1248 - val_loss: 10.4829 - val_mae: 10.9722\n",
      "Epoch 18/50\n",
      "13/13 [==============================] - 0s 3ms/step - loss: 9.1676 - mae: 9.6589 - val_loss: 10.1331 - val_mae: 10.6201\n",
      "Epoch 19/50\n",
      "13/13 [==============================] - 0s 3ms/step - loss: 8.7536 - mae: 9.2454 - val_loss: 9.7847 - val_mae: 10.2621\n",
      "Epoch 20/50\n",
      "13/13 [==============================] - 0s 3ms/step - loss: 8.3076 - mae: 8.7974 - val_loss: 9.4436 - val_mae: 9.9139\n",
      "Epoch 21/50\n",
      "13/13 [==============================] - 0s 3ms/step - loss: 7.8662 - mae: 8.3549 - val_loss: 9.0746 - val_mae: 9.5565\n",
      "Epoch 22/50\n",
      "13/13 [==============================] - 0s 3ms/step - loss: 7.4305 - mae: 7.9213 - val_loss: 8.7141 - val_mae: 9.2055\n",
      "Epoch 23/50\n",
      "13/13 [==============================] - 0s 3ms/step - loss: 6.9935 - mae: 7.4827 - val_loss: 8.3789 - val_mae: 8.8552\n",
      "Epoch 24/50\n",
      "13/13 [==============================] - 0s 3ms/step - loss: 6.5370 - mae: 7.0255 - val_loss: 7.9437 - val_mae: 8.4358\n",
      "Epoch 25/50\n",
      "13/13 [==============================] - 0s 3ms/step - loss: 6.0601 - mae: 6.5403 - val_loss: 7.5586 - val_mae: 8.0420\n",
      "Epoch 26/50\n",
      "13/13 [==============================] - 0s 3ms/step - loss: 5.6043 - mae: 6.0799 - val_loss: 7.1209 - val_mae: 7.6191\n",
      "Epoch 27/50\n",
      "13/13 [==============================] - 0s 3ms/step - loss: 5.1504 - mae: 5.6263 - val_loss: 6.7172 - val_mae: 7.2081\n",
      "Epoch 28/50\n",
      "13/13 [==============================] - 0s 3ms/step - loss: 4.7412 - mae: 5.2189 - val_loss: 6.3685 - val_mae: 6.8392\n",
      "Epoch 29/50\n",
      "13/13 [==============================] - 0s 3ms/step - loss: 4.3673 - mae: 4.8489 - val_loss: 6.0729 - val_mae: 6.5695\n",
      "Epoch 30/50\n",
      "13/13 [==============================] - 0s 3ms/step - loss: 4.0589 - mae: 4.5381 - val_loss: 5.8145 - val_mae: 6.3064\n",
      "Epoch 31/50\n",
      "13/13 [==============================] - 0s 3ms/step - loss: 3.7955 - mae: 4.2725 - val_loss: 5.5978 - val_mae: 6.0857\n",
      "Epoch 32/50\n",
      "13/13 [==============================] - 0s 3ms/step - loss: 3.5937 - mae: 4.0704 - val_loss: 5.3887 - val_mae: 5.8730\n",
      "Epoch 33/50\n",
      "13/13 [==============================] - 0s 3ms/step - loss: 3.4264 - mae: 3.9028 - val_loss: 5.1997 - val_mae: 5.6836\n",
      "Epoch 34/50\n",
      "13/13 [==============================] - 0s 3ms/step - loss: 3.2764 - mae: 3.7473 - val_loss: 5.0798 - val_mae: 5.5593\n",
      "Epoch 35/50\n",
      "13/13 [==============================] - 0s 3ms/step - loss: 3.1476 - mae: 3.6167 - val_loss: 4.9341 - val_mae: 5.3988\n",
      "Epoch 36/50\n",
      "13/13 [==============================] - 0s 2ms/step - loss: 3.0353 - mae: 3.4979 - val_loss: 4.8143 - val_mae: 5.2760\n",
      "Epoch 37/50\n",
      "13/13 [==============================] - 0s 3ms/step - loss: 2.9438 - mae: 3.4035 - val_loss: 4.7430 - val_mae: 5.2003\n",
      "Epoch 38/50\n",
      "13/13 [==============================] - 0s 3ms/step - loss: 2.8466 - mae: 3.3084 - val_loss: 4.6643 - val_mae: 5.1203\n",
      "Epoch 39/50\n",
      "13/13 [==============================] - 0s 2ms/step - loss: 2.7617 - mae: 3.2221 - val_loss: 4.5734 - val_mae: 5.0266\n",
      "Epoch 40/50\n",
      "13/13 [==============================] - 0s 3ms/step - loss: 2.6996 - mae: 3.1595 - val_loss: 4.4901 - val_mae: 4.9394\n",
      "Epoch 41/50\n",
      "13/13 [==============================] - 0s 3ms/step - loss: 2.6237 - mae: 3.0805 - val_loss: 4.4282 - val_mae: 4.8821\n",
      "Epoch 42/50\n",
      "13/13 [==============================] - 0s 3ms/step - loss: 2.5747 - mae: 3.0294 - val_loss: 4.3480 - val_mae: 4.7973\n",
      "Epoch 43/50\n",
      "13/13 [==============================] - 0s 3ms/step - loss: 2.5178 - mae: 2.9721 - val_loss: 4.2805 - val_mae: 4.7341\n",
      "Epoch 44/50\n",
      "13/13 [==============================] - 0s 3ms/step - loss: 2.4794 - mae: 2.9380 - val_loss: 4.1993 - val_mae: 4.6442\n",
      "Epoch 45/50\n",
      "13/13 [==============================] - 0s 3ms/step - loss: 2.4175 - mae: 2.8702 - val_loss: 4.1869 - val_mae: 4.6292\n",
      "Epoch 46/50\n",
      "13/13 [==============================] - 0s 3ms/step - loss: 2.3780 - mae: 2.8300 - val_loss: 4.1028 - val_mae: 4.5415\n",
      "Epoch 47/50\n",
      "13/13 [==============================] - 0s 3ms/step - loss: 2.3263 - mae: 2.7804 - val_loss: 4.0503 - val_mae: 4.4792\n",
      "Epoch 48/50\n",
      "13/13 [==============================] - 0s 3ms/step - loss: 2.2860 - mae: 2.7388 - val_loss: 4.0085 - val_mae: 4.4437\n",
      "Epoch 49/50\n",
      "13/13 [==============================] - 0s 3ms/step - loss: 2.2520 - mae: 2.7068 - val_loss: 3.9655 - val_mae: 4.3973\n",
      "Epoch 50/50\n",
      "13/13 [==============================] - 0s 2ms/step - loss: 2.2164 - mae: 2.6708 - val_loss: 3.9255 - val_mae: 4.3687\n"
     ]
    }
   ],
   "source": [
    "history = network.fit(X_train_prep, \n",
    "                      y_train, \n",
    "                      epochs=50, \n",
    "                      validation_data=(X_val_prep, y_val))"
   ]
  },
  {
   "cell_type": "code",
   "execution_count": 30,
   "metadata": {},
   "outputs": [
    {
     "data": {
      "image/png": "[encoded data removed]",
      "text/plain": [
       "<Figure size 720x432 with 1 Axes>"
      ]
     },
     "metadata": {
      "needs_background": "light"
     },
     "output_type": "display_data"
    }
   ],
   "source": [
    "import pandas as pd\n",
    "import matplotlib.pyplot as plt\n",
    "\n",
    "pd.DataFrame(history.history)[['mae', 'val_mae']].plot(figsize=(10, 6))\n",
    "plt.grid(True)\n",
    "plt.xlabel(\"epochs\")\n",
    "plt.ylabel(\"loss\")\n",
    "plt.show()"
   ]
  },
  {
   "cell_type": "markdown",
   "metadata": {},
   "source": [
    "#### Evaluación de los resultados"
   ]
  },
  {
   "cell_type": "code",
   "execution_count": 31,
   "metadata": {},
   "outputs": [
    {
     "name": "stdout",
     "output_type": "stream",
     "text": [
      "2/2 [==============================] - 0s 955us/step - loss: 1.5974 - mae: 2.0466\n"
     ]
    }
   ],
   "source": [
    "test_loss, test_mae = network.evaluate(X_test_prep, y_test)"
   ]
  },
  {
   "cell_type": "code",
   "execution_count": 32,
   "metadata": {},
   "outputs": [
    {
     "name": "stdout",
     "output_type": "stream",
     "text": [
      "test_mae: 2.046584367752075\n"
     ]
    }
   ],
   "source": [
    "print('test_mae:', test_mae)"
   ]
  },
  {
   "cell_type": "markdown",
   "metadata": {},
   "source": [
    "## Guardando el modelo en disco con objetos personalizados"
   ]
  },
  {
   "cell_type": "markdown",
   "metadata": {},
   "source": [
    "Cuando nuestro modelo contiene algún componente personalizado, debemos realizar el siguiente procedimiento para almacenar el modelo en disco e importarlo cuando sea necesario"
   ]
  },
  {
   "cell_type": "code",
   "execution_count": 33,
   "metadata": {},
   "outputs": [],
   "source": [
    "# Guardamos el modelo en disco\n",
    "network.save(\"modelo_huber_loss.h5\")"
   ]
  },
  {
   "cell_type": "code",
   "execution_count": 34,
   "metadata": {},
   "outputs": [],
   "source": [
    "# Importamos el modelo previamente guardado en disco\n",
    "network2 = tf.keras.models.load_model(\"modelo_huber_loss.h5\",\n",
    "                                      custom_objects={\"huber_fn\": create_huber(1.0)})"
   ]
  },
  {
   "cell_type": "code",
   "execution_count": 35,
   "metadata": {},
   "outputs": [
    {
     "name": "stdout",
     "output_type": "stream",
     "text": [
      "Epoch 1/2\n",
      "13/13 [==============================] - 0s 12ms/step - loss: 2.1799 - mean_absolute_error: 2.6326 - val_loss: 3.8635 - val_mean_absolute_error: 4.3035\n",
      "Epoch 2/2\n",
      "13/13 [==============================] - 0s 3ms/step - loss: 2.1731 - mean_absolute_error: 2.6262 - val_loss: 3.8704 - val_mean_absolute_error: 4.3219\n"
     ]
    }
   ],
   "source": [
    "history = network2.fit(X_train_prep, \n",
    "                      y_train, \n",
    "                      epochs=2, \n",
    "                      validation_data=(X_val_prep, y_val))"
   ]
  }
 ],
 "metadata": {
  "kernelspec": {
   "display_name": "Python 3",
   "language": "python",
   "name": "python3"
  },
  "language_info": {
   "codemirror_mode": {
    "name": "ipython",
    "version": 3
   },
   "file_extension": ".py",
   "mimetype": "text/x-python",
   "name": "python",
   "nbconvert_exporter": "python",
   "pygments_lexer": "ipython3",
   "version": "3.8.5"
  }
 },
 "nbformat": 4,
 "nbformat_minor": 4
}
